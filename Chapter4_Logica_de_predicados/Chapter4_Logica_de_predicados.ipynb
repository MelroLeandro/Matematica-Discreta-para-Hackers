{
 "cells": [
  {
   "cell_type": "markdown",
   "metadata": {},
   "source": [
    "Chapter 4\n",
    "======\n",
    "\n",
    "This chapter introduces more"
   ]
  },
  {
   "cell_type": "markdown",
   "metadata": {},
   "source": [
    "Existem muitas afirmações que se fazem em Matemática que não podem ser simbolizadas e analisadas em termos de cálculo proposicional. Para além da complexidade externa introduzida pelas diferentes conectivas, uma afirmação pode conter complexidades internas que advém de palavras tais como ''todo'', ''cada'', ''algum'', etc. as quais requerem uma análise lógica que está para além do cálculo proposicional. Tal análise é o objecto da chamada \\textbf{Lógica de Predicados}."
   ]
  },
  {
   "cell_type": "markdown",
   "metadata": {},
   "source": [
    "### Variáveis\n",
    "No desenvolvimento de qualquer teoria, aparecem muitas vezes afirmações sobre objectos genéricos da teoria, que são representados por letras designadas de \\textbf{variáveis}.\n",
    "\n",
    "#### Predicado\n",
    "Representando por *x* um número inteiro genérico, pode ser necessário analisar (sob o ponto de vista lógico) afirmações do tipo\n",
    "\n",
    "> \"*x* é maior que 3\"\n",
    "\n",
    "Como já foi referido, tal afirmação não é uma proposição: o seu valor lógico tanto pode ser verdade ou falso. Uma afirmação deste tipo denota-se genericamente por *P(x)* para mostrar que $P$ depende da variável $x$, obtendo-se assim, uma **fórmula** com uma **variável livre** *x*. Para evidenciar isso muitas vezes escrevemos:\n",
    "\n",
    "> \"*P(x):x* é maior que 3\"\n",
    "\n",
    "Substituindo *x* em *P(x)* por um dado valor, 6 por exemplo, obtém-se *P(6)* que é uma proposição: *P(6)* é uma proposição verdadeira; *P(2)*, no entanto, é uma proposição falsa. Neste sentido, *P* é designada por **função proposicional** ou **predicado**, e *P(x)* é designada de **expressão proposicional** ou **condição**.\n"
   ]
  },
  {
   "cell_type": "markdown",
   "metadata": {},
   "source": [
    "### Conjuntos de verdade\n",
    "Quando se estudam proposições - fórmulas sem variáveis livres - pode falar-se no seu valor lógico de verdade ou falsidade. Mas se uma fórmula contiver variáveis livres (uma ou mais) então não poderá falar-se no seu valor lógico e dizer simplesmente que tal fórmula é verdadeira ou falsa. O seu valor lógico depende do valor atribuído à variável (ou variáveis). A tais predicados associam-se então os chamados **conjuntos de verdade** que são os conjuntos de valores para os quais *p(x)* é verdadeira. Escreve-se com este sentido\n",
    "$$\n",
    "A=\\{x:P(x)\\}\n",
    "$$\n",
    "o que se lê da seguinte forma: *A* é o conjunto cujos elementos satisfazem *P(x)* ou para os quais *P(x)* é verdadeira. Observe-se que, reciprocamente, dado um conjunto *A* qualquer, pode sempre definir-se uma fórmula com variáveis livres que tem *A* por conjunto de verdade. Isso pode ser feito, por exemplo, pelo predicado\n",
    "$$\n",
    "P_A(x):''x\\in A''\n",
    "$$\n",
    "e portanto\n",
    "$$\n",
    "A=\\{x:P_A(x)\\}.\n",
    "$$"
   ]
  },
  {
   "cell_type": "markdown",
   "metadata": {},
   "source": [
    "#### Paradoxo de Russel\n",
    "\n",
    "Neste contexto a existência dum **conjunto universal** $\\{x: x=x\\}$ e dum **conjunto vazio** $\\{x:x\\neq x\\}$ intuitivamente podem parecer razoáveis. No entanto, podem conduzir a situações paradoxais, como deu conta Bertrand Russel, por volta de 1901.\n",
    "\n",
    "Russel começou por notar que se se adoptar a concepção intuitiva de conjunto, pode dizer-se que alguns conjuntos são membros de si próprios enquanto outros não o são. Um conjunto de cadeiras, por exemplo não é uma cadeira, não sendo assim um elemento de si próprio; no entanto, o conjunto de todas as ideias abstractas é, ele próprio, uma ideia abstracta, pelo que pertence a si própria. As propriedades \"ser elemento de si próprio\" e \"não ser membro de si próprio\" parecem assim ser propriedades perfeitamente adequadas para definir conjuntos.\n",
    "\n",
    "Seja $R$ o conjunto de todos os conjuntos que não estão contidos em si próprio. Formalmente seja\n",
    "$$\n",
    "R=\\{x:x\\not\\in x\\}.\n",
    "$$\n",
    "Os problemas surgem quando nos questionamos se $R$ é elemento ou não de $R$. Porque:\n",
    "1. Supondo que $R\\in R$ temos por definição de $R$ que $R\\not \\in R$,\n",
    "+ Supondo que $R\\not \\in R$ temos por definição de $R$ que $R \\in R$.\n",
    "Assim, a proposição $R \\in R$ não tem valor lógico definido na Lógica Clássica contradizendo o *Princípio do terceiro excluído*.\n",
    "\n",
    "Para evitar este tipo de problema vamos supor que todos os conjuntos considerados são constituídos por elementos de um conjunto $ U$ suficientemente grande, chamado **conjunto universal** ou **universo de discurso**. Neste sentido, um conjunto é uma entidade do tipo\n",
    "$$\n",
    "\\{x\\in U:P(x)\\}\n",
    "$$\n",
    "onde supomos que o predicado *P* está definido para todo o valor de *x* em $U$.\n",
    "\n",
    "A ideia de um conjunto universal estará sempre presente, mesmo quando não seja explicitamente mencionado.\n"
   ]
  },
  {
   "cell_type": "markdown",
   "metadata": {},
   "source": [
    "### Universo de discurso\n",
    "A atribuição de valores às variáveis duma condição $P(x_1,x_2,\\ldots,x_n)$ permite definir proposições. No entanto\n",
    "esta atribuição é limitada a um conjunto de valores do **universo de discurso** do predicado.\n",
    "\n",
    "#### Exemplo:\n",
    "Temos por exemplo:\n",
    "1. $x=x$ tem por exemplos de universo de discurso: $\\mathds{R},\\mathds{N},\\mathds{Q}$ ou $\\mathds{C}$.\n",
    "+ $\\sqrt{y}\\geq 4$ tem por exemplos de universo de discurso: $\\mathds{Q}^+,\\mathds{R}^+$\n",
    "+ $\\frac{1}{x}>3$ tem como possível universo de discurso por exemplo o conjunto dos reais diferentes de zero."
   ]
  },
  {
   "cell_type": "markdown",
   "metadata": {},
   "source": [
    "### Predicados impossíveis, possíveis e universais\n",
    "Podemos assim classificar as expressões proposicionais em\n",
    "1. \\textbf{Impossíveis}, se não existem valores da variável, ou variáveis, no universo, ou universos, que a transformam numa proposição verdadeira.\n",
    "+ \\textbf{Possíveis}, se existem valores das variáveis no universo de discurso que a transformam numa proposição verdadeira. Podemos assim distinguir entre proposições:\n",
    "     1. **Universais**, se são predicados verificados para todos os valores que as variáveis podem assumir no universo,\n",
    "     +  **Contingentes (ou não universais)**, se não são predicados verificadas para todos os valores das variáveis.\n",
    "\n",
    "#### Exemplo\n",
    "Temos por exemplo:\n",
    "1. $x^2+y^2>-4$, com $x\\in \\mathds{R}$ e $y\\in \\mathds{R}$, é condição universal;\n",
    "+ $2n+1>0$ é condição universal em $\\mathds{N}$;\n",
    "+ $|x|+|y|>0$, com $x$ e $y$ reais, é condição contingente, pois não é satisfeita com $x=0$ e $y=0$;\n",
    "+ $n^2>5$ é condição contingente em $\\mathds{N}$, pois é condição possível não universal."
   ]
  },
  {
   "cell_type": "markdown",
   "metadata": {},
   "source": [
    "### Conjuntos de verdade e conectivas lógicas\n",
    "uponha-se que $A$ é o conjunto de verdade da expressão proposicional $P(x)$ e $B$ é o conjunto de verdade da expressão proposicional $Q(x)$ no universo de discurso $U$. Então\n",
    "$$A=\\{x\\in U:P(x)\\}$$\n",
    "$$B=\\{x\\in U:Q(x)\\}$$\n",
    "O conjunto de verdade da fórmula $P(x)\\wedge Q(x)$ é tal que\n",
    "$$\n",
    "\\{x\\in U:P(x)\\wedge Q(x)\\}=A\\cap B\n",
    "$$\n",
    "De modo semelhante,\n",
    "$$\n",
    "\\{x\\in U:P(x)\\vee Q(x)\\}=A\\cup B\n",
    "$$\n",
    "\n",
    "#### Exemplo\n",
    "Sendo $A=\\{x\\in U:P(x)\\}$ e $B=\\{x\\in U:Q(x)\\}$.\n",
    "Determine os conjuntos de verdade das expressões proposicionais:\n",
    "1. $\\neg P(x)$\n",
    "+ $\\neg Q(x)$\n",
    "+ $P(x)\\wedge (\\neg Q(x))$\n",
    "+ $P(x)\\rightarrow Q(x)$\n",
    "+ $P(x)\\leftrightarrow Q(x)$\n"
   ]
  },
  {
   "cell_type": "code",
   "execution_count": null,
   "metadata": {
    "collapsed": true
   },
   "outputs": [],
   "source": []
  }
 ],
 "metadata": {
  "kernelspec": {
   "display_name": "Python 2",
   "language": "python",
   "name": "python2"
  },
  "language_info": {
   "codemirror_mode": {
    "name": "ipython",
    "version": 2
   },
   "file_extension": ".py",
   "mimetype": "text/x-python",
   "name": "python",
   "nbconvert_exporter": "python",
   "pygments_lexer": "ipython2",
   "version": "2.7.11"
  }
 },
 "nbformat": 4,
 "nbformat_minor": 0
}
