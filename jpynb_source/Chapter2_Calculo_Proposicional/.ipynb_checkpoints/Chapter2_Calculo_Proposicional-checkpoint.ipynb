{
 "cells": [
  {
   "cell_type": "markdown",
   "metadata": {},
   "source": [
    "Chapter 2\n",
    "======\n"
   ]
  },
  {
   "cell_type": "markdown",
   "metadata": {},
   "source": [
    "## Lógica proposicional\n",
    "\n",
    "> \"Poder-se-á definir a Lógica como a ciência das regras que legitimam\n",
    "a utilização da palavra portanto.\" B. Ruyer in Logique. \n",
    "\n",
    "### Proposição\n",
    "\n",
    "No caso das instruções *if* e *while*, a execução dum bloco de código está dependente da avaliação duma função proposicional (condição). Com o objectivo de estudar estas instruções e formalizar a noção de função proposicional começa-se por rever algumas noções de lógica proposicional e do cálculo de predicados.\n",
    "\n",
    "<img src=\"py5.gif\" width = 400/>\n",
    "\n",
    "Os elementos básicos da lógica são as *proposições* ou *sentenças* que se entendem como afirmações precisas. Na lógica clássica, que abordamos, a avaliação duma proposição é regida por dois princípios fundamentais:\n",
    "* **Princípio da não contradição** - Uma proposição não pode ser simultaneamente verdadeira e falsa;\n",
    "* **Princípio do terceiro excluído** - Uma proposição ou é verdadeira ou é falsa;\n",
    "\n",
    "Por exemplo \"1 é maior que 3\" é uma proposição cujo valor lógico é o de\n",
    "\"falsidade\" enquanto que \"todos os triângulos têm três lados e três ângulos\" é uma proposição cujo valor lógico é o de \"verdade\". \n",
    "\n",
    "Por outro lado \"*x < 3*\" não é uma proposição (depende do valor que venha a ser atribuído à variável *x*) sendo denominada *função proposicional*. \n",
    "\n",
    "Representam-se por letras (geralmente minúsculas) as proposições genéricas (ou variáveis proposicionais) e por 1 (ou V) e 0 (ou F) os valores lógicos de \"*verdade*\" e \"*falsidade*\", respectivamente. \n",
    "\n",
    "A área da lógica que trata as proposições neste contexto é designada por *cálculo proposicional* ou *lógica proposicional*.\n",
    "\n",
    "### Proposição simples e proposição composta\n",
    "Por vezes combinam-se várias proposições para obter proposições mais expressivas. Neste sentido, classificamos as proposições como **simples** (também denominada atómica) ou\n",
    "**composta** (também denominada molecular).\n",
    "\n",
    "As proposições simples apresentam apenas uma afirmação:\n",
    "      \n",
    "> $p:$ $\\sqrt{2}$ não é um número racional.\n",
    "\n",
    "> $q:$ existem mais números reais que inteiros.\n",
    "\n",
    "> $v:$ $1=2$.\n",
    "\n",
    "> $r:2+3>4$.\n",
    "\n",
    "As proposições compostas são definidas por uma ou por mais do que uma\n",
    "proposição, usando na sua formação **operadores lógicos**\n",
    "(também designados de **conectivas lógicas** ou operadores para formação de proposições):\n",
    "\n",
    "> $x = 2$ e $y = 1$.\n",
    "\n",
    "> se $x > y$ então $y < x$.\n",
    "\n",
    "> não é verdade que $2+3>4$.\n",
    "\n"
   ]
  },
  {
   "cell_type": "markdown",
   "metadata": {},
   "source": [
    "#### Conectivas lógicas\n",
    "Em cálculo proposicional as proposições são geradas a partir de proposições simples, usando operadores para formação de proposições. Vamos tomar como sintacticamente válidas proposições compostas da forma:\n",
    "\n",
    "* *não* $p$,\n",
    "* $p$ *e* $q$,\n",
    "* $p$ *ou* $q$,\n",
    "* *ou* $p$ *ou* (exclusivo) $q$,\n",
    "* *se* $p$ *então* $q$,\n",
    "* $p$ *se e só se* $q$.\n",
    "\n",
    "onde $p$ e $q$ são proposições (simples ou compostas). Neste casos, em geral, pretende-se obter os valores lógicos das proposições compostas em função dos valores lógicos conhecidos das proposições mais simples que as compõem. Por forma a podermos formalizar a lógica e a avaliação de proposições, convencionamos a seguinte representação para os operadores sintácticos usados na formação de proposições:"
   ]
  },
  {
   "cell_type": "markdown",
   "metadata": {},
   "source": [
    "Operações Lógicas | Símbolos | Notação | Significado\n",
    "------------------|----------|---------|------------\n",
    "Negação | $\\neg$ ou $\\sim$ | $\\neg p$ | não *p*\n",
    "Conjunção | $\\wedge$ | $p \\wedge q$ | *p* e *q*\n",
    "Disjunção | $\\vee$ | $p \\vee q$ | *p* ou *q* \n",
    "Disjunção exclusiva | $\\oplus$ ou $\\dot{\\vee}$ | $p\\oplus q$ |  ou *p* ou (exclusivo) *q* \n",
    "Implicação | $\\rightarrow$ | $p\\rightarrow q$ | se *p* então *q* \n",
    "Bi-implicação | $\\leftrightarrow$ | $p\\leftrightarrow q$ | *p* se só se *q*"
   ]
  },
  {
   "cell_type": "markdown",
   "metadata": {},
   "source": [
    "#### Negação\n",
    "Seja $p$ uma proposição. A afirmação \"não se verifica que\n",
    "*p*\" é uma nova proposição, designada de **negação** de $p$. A\n",
    "negação de $p$ é denotada por $\\neg p$ ou $\\sim p$. A proposição\n",
    "$\\neg p$ deve ler-se \"não *p*\" e é verdadeira se *p* é falsa. A proposição $\\neg p$ é falsa se *p* é verdadeira.\n",
    "\n",
    "É usual definir a interpretação dum operador lógico através de\n",
    "tabelas do tipo:\n",
    "\n",
    "\n",
    "\\begin{align}\n",
    "\\begin{array}{c|c}\n",
    "\\hline\n",
    "  p & \\neg p \\\\\n",
    "\\hline\n",
    "  T & F \\\\\n",
    "  F & T\n",
    "\\end{array}\n",
    "\\text{ ou }\n",
    "\\begin{array}{c|c}\n",
    "\\hline\n",
    "  p & \\neg p \\\\\n",
    "\\hline\n",
    "  1 & 0 \\\\\n",
    "  0 & 1\n",
    "\\end{array}\n",
    "\\end{align}\n",
    "\n",
    "stas tabelas são designadas por **tabelas de verdade**. Neste\n",
    "caso define completamente o operador negação, relacionando os\n",
    "valores lógicos de *p* e $\\neg p$.\n",
    "\n",
    "Note que, em linguagem corrente nem sempre se pode negar logicamente uma proposição,\n",
    "antepondo o advérbio \"não\" ao verbo da proposição, isto apenas se verifica nos casos mais simples.\n",
    "\n",
    "Por exemplo: negar \"Hoje é sábado.\" é afirmar \"Hoje não é sábado\".\n",
    "\n",
    "Mas negar que \"Todas as aves voam\" é o mesmo que afirmar \"não se verifica que todas as aves voam\" o que é equivalente a afirmar que \"Nem todas as aves voam\" mas não é afirmar que \"Todas as aves não voam\".\n",
    "\n",
    "Em linguagem Matemática, dado o rigor da interpretação das\n",
    "designações usadas, o processo de negação fica simplificado. Por\n",
    "exemplo, negar \"*5>2*\" é o mesmo que afirmar \"$\\neg$*(5>2)*\" que é equivalente, por definição da relação *>*, a escrever \"*5*$\\leq$*2*\". Assim como \"*5>2*\" é verdade, temos pela interpretação da negação que \"$\\neg$*(5>2)*\" é falso."
   ]
  },
  {
   "cell_type": "code",
   "execution_count": 2,
   "metadata": {
    "collapsed": false
   },
   "outputs": [
    {
     "name": "stdout",
     "output_type": "stream",
     "text": [
      "not True = False\n",
      "not False = True\n"
     ]
    }
   ],
   "source": [
    "#\n",
    "# Tabela da Negação\n",
    "#\n",
    "for p in [True,False]:\n",
    "    print('not',p,\"=\", not p)"
   ]
  },
  {
   "cell_type": "markdown",
   "metadata": {},
   "source": [
    "#### Conjunção\n",
    "Sejam $p$ e $q$ proposições. A proposição \"$p$ e $q$\", denotada\n",
    "$p\\wedge q$, é a proposição que é verdadeira apenas quando $p$ e $q$\n",
    "são ambas verdadeiras, caso contrário é falsa. A proposição $p\\wedge q$\n",
    "diz-se a \\textbf{conjunção} de $p$ e $q$.\n",
    "\n",
    "Assim, os valores lógicos das três proposições $p$, $q$, e $p\\wedge\n",
    "q$ estão relacionados pela tabela de verdade:\n",
    "    \n",
    "\\begin{array}{c|c|c}\n",
    "\\hline\n",
    "  p & q & p\\wedge q \\\\\n",
    "\\hline\n",
    "  V & V & V \\\\\n",
    "  V & F & F \\\\\n",
    "  F & V & F \\\\\n",
    "  F & F & F\n",
    "\\end{array}\n",
    "\n",
    "Note que a tabela tem quatro linhas, uma por cada combinação\n",
    "possível de valores de verdade para as proposições $p$ e $q$.\n"
   ]
  },
  {
   "cell_type": "code",
   "execution_count": 3,
   "metadata": {
    "collapsed": false
   },
   "outputs": [
    {
     "name": "stdout",
     "output_type": "stream",
     "text": [
      "True and True = True\n",
      "True and False = False\n",
      "False and True = False\n",
      "False and False = False\n"
     ]
    }
   ],
   "source": [
    "#\n",
    "# Tabela da conjunção\n",
    "#\n",
    "for p in [True,False]:\n",
    "    for q in [True,False]:\n",
    "        print(p,'and',q,'=', p and q)"
   ]
  },
  {
   "cell_type": "markdown",
   "metadata": {},
   "source": [
    "#### Disjunção\n",
    "Sejam *p* e *q* proposições. A proposição \"$p$ ou $q$\", denotada\n",
    "*p$\\vee$q*, é a proposição que é falsa apenas quando $p$ e $q$ são\n",
    "ambas falsas, caso contrário é verdade. A proposição *p$\\vee$q*\n",
    "diz-se a **disjunção** de *p* e *q*.\n",
    "A tabela de verdade de *p $\\vee$q* toma assim a forma:\n",
    "\\begin{array}{c|c|c}\n",
    "\\hline\n",
    "  p & q & p\\vee q \\\\\n",
    "\\hline\n",
    "  V & V & V \\\\\n",
    "  V & F & V \\\\\n",
    "  F & V & V \\\\\n",
    "  F & F & F\n",
    "\\end{array}\n",
    "\n",
    "A conectiva **ou** é interpretada na versão inclusiva da\n",
    "palavra \"ou\" em linguagem corrente. Note que, nas proposições seguintes *ou* tem ou *significado inclusivo* ou *significado\n",
    "exclusivo* consoante o contexto de interpretação:\n",
    "- O João pratica futebol ou natação.[ou ambas as coisas]\n",
    "- Ele é do Sporting ou do Porto.[mas não as duas coisas]\n"
   ]
  },
  {
   "cell_type": "code",
   "execution_count": 4,
   "metadata": {
    "collapsed": false
   },
   "outputs": [
    {
     "name": "stdout",
     "output_type": "stream",
     "text": [
      "True or True = True\n",
      "True or False = True\n",
      "False or True = True\n",
      "False or False = False\n"
     ]
    }
   ],
   "source": [
    "#\n",
    "# Tabela da disjunção\n",
    "#\n",
    "for p in [True,False]:\n",
    "    for q in [True,False]:\n",
    "        print(p,'or',q,'=', p or q)"
   ]
  },
  {
   "cell_type": "markdown",
   "metadata": {},
   "source": [
    "#### Disjunção exclusiva\n",
    "\n",
    "Para tornar a interpretação da disjunção independente do contexto definimos:  A **disjunção exclusiva**\n",
    "de *p* e *q*, denotada *p$\\oplus$q* ou *p$\\dot{\\vee}$q*, é a\n",
    "proposição que é verdade apenas quando, ou *p* é verdadeira ou *q* é\n",
    "verdadeira, caso contrário é falsa.\n",
    "\n",
    "A tabela de verdade de *p$\\oplus$q* toma assim a forma:\n",
    "\\begin{array}{c|c|c}\n",
    "\\hline\n",
    "  p & q & p\\oplus  q \\\\\n",
    "\\hline\n",
    "  V & V & F \\\\\n",
    "  V & F & V \\\\\n",
    "  F & V & V \\\\\n",
    "  F & F & F\n",
    "\\end{array}"
   ]
  },
  {
   "cell_type": "code",
   "execution_count": 5,
   "metadata": {
    "collapsed": false
   },
   "outputs": [
    {
     "name": "stdout",
     "output_type": "stream",
     "text": [
      "True xor True = False\n",
      "True xor False = True\n",
      "False xor True = True\n",
      "False xor False = False\n"
     ]
    }
   ],
   "source": [
    "#\n",
    "# Tabela da disjunção exclusiva\n",
    "#\n",
    "for p in [True,False]:\n",
    "    for q in [True,False]:\n",
    "        if p!=q:\n",
    "            print(p,'xor',q,'=', True)\n",
    "        else:\n",
    "            print(p,'xor',q,'=', False)"
   ]
  },
  {
   "cell_type": "markdown",
   "metadata": {},
   "source": [
    "##### Exercício:\n",
    "Relacione o valor lógico das proposições $p$, $q$, $r$ e\n",
    "$(p\\wedge (\\neg q))\\oplus (r\\vee p)$.\n",
    "\n",
    "##### Exercício:\n",
    "  Indique os valores (de verdade ou falsidade) das seguintes afirmações:\n",
    "* $3\\leq 7$ e 4 é um número inteiro ímpar.\n",
    "* $3\\leq 7$ ou 4 é um número inteiro ímpar.\n",
    "* 5 é ímpar ou divisível por 4."
   ]
  },
  {
   "cell_type": "markdown",
   "metadata": {},
   "source": [
    "#### Implicação\n",
    "Sejam *p* e *q* proposições. A implicação *p$\\rightarrow$q* é\n",
    "a proposição que é falsa quando *p* é verdadeira e *q* é falsa, nos\n",
    "outros casos é verdadeira.\n",
    "\n",
    "A tabela de verdade de *p$\\rightarrow$q* toma assim a forma:\n",
    "\\begin{array}{c|c|c}\n",
    "\\hline\n",
    "  p & q & p\\rightarrow q \\\\\n",
    "\\hline\n",
    "  V & V & V \\\\\n",
    "  V & F & F \\\\\n",
    "  F & V & V \\\\\n",
    "  F & F & V\n",
    "\\end{array}\n",
    "\n",
    "Numa proposição do tipo *p$\\rightarrow$q* a proposição *p* recebe o\n",
    "nome de **hipótese** (antecedente ou premissa) e a *q* chama-se\n",
    "**tese** (conclusão ou consequente). A proposição *p$\\rightarrow$q* também é muitas vezes designada por **declaração\n",
    "condicional**. Estas designações são compatíveis com o uso da implicação em linguagem corrente, devemos no entanto notar que a tabela entra em conflito com a interpretação que fazemos da implicação: neste caso não se dirá \"*p* implica *q*\" quando se sabe à priori que *p* é falsa. Na interpretação que apresentamos para a implicação ela é verdade sempre que \"*p*\" é falsa independentemente do valor lógico de \"*q*\". Esta situação pode ilustrar-se com a implicação \"se 1+1=1 então 2=3\" que é verdadeira, uma vez que o antecedente é falso.\n"
   ]
  },
  {
   "cell_type": "code",
   "execution_count": 6,
   "metadata": {
    "collapsed": false
   },
   "outputs": [
    {
     "name": "stdout",
     "output_type": "stream",
     "text": [
      "True --> True = True\n",
      "True --> False = False\n",
      "False --> True = True\n",
      "False --> False = True\n"
     ]
    }
   ],
   "source": [
    "#\n",
    "# Tabela da implicação\n",
    "#\n",
    "\n",
    "for p in [True,False]:\n",
    "    for q in [True,False]:\n",
    "        if p and not q:\n",
    "            print(p,'-->',q,'=',False)\n",
    "        else:\n",
    "            print(p,'-->',q,'=',True)"
   ]
  },
  {
   "cell_type": "markdown",
   "metadata": {},
   "source": [
    "#### Bi-implicação\n",
    "Sejam *p* e *q* proposições. A **bi-condicional** ou **bi-implicação** de *p* e *q* é a proposição *p$\\leftrightarrow$q* que é verdadeira\n",
    "quando *p* e *q* têm o mesmo valor lógico.\n",
    "\n",
    "A tabela de verdade de *p$\\leftrightarrow$q* toma assim a forma:\n",
    "\n",
    "\\begin{array}{c|c|c}\n",
    "\\hline\n",
    "  p & q & p\\leftrightarrow q \\\\\n",
    "\\hline\n",
    "  V & V & V \\\\\n",
    "  V & F & F \\\\\n",
    "  F & V & F \\\\\n",
    "  F & F & V\n",
    "\\end{array}\n",
    "\n",
    "A proposição *p$\\leftrightarrow$q* deve ler-se \"*p* se e só se *q*\"\n",
    "(abreviado por \"*p* sse *q*\") ou \"*p* é condição necessária e\n",
    "suficiente para *q*\"."
   ]
  },
  {
   "cell_type": "code",
   "execution_count": 7,
   "metadata": {
    "collapsed": false
   },
   "outputs": [
    {
     "name": "stdout",
     "output_type": "stream",
     "text": [
      "True <-> True = True\n",
      "True <-> False = False\n",
      "False <-> True = False\n",
      "False <-> False = True\n"
     ]
    }
   ],
   "source": [
    "#\n",
    "# Tabela da disjunção exclusiva\n",
    "#\n",
    "for p in [True,False]:\n",
    "    for q in [True,False]:\n",
    "        if p==q:\n",
    "            print(p,'<->',q,'=', True)\n",
    "        else:\n",
    "            print(p,'<->',q,'=', False)"
   ]
  },
  {
   "cell_type": "markdown",
   "metadata": {},
   "source": [
    "Facilmente podemos mostrar que as proposições *p$\\leftrightarrow$q*\n",
    "e  $(p\\rightarrow q)\\wedge(q\\rightarrow p)$ têm os mesmos valores\n",
    "lógicos, ou seja a proposição $(p\\leftrightarrow  q)\\leftrightarrow\n",
    "((p\\rightarrow q)\\wedge(q\\rightarrow p))$ é sempre verdadeira.\n",
    "\n",
    " \\begin{array}{|c|c|c||c||c|c|c|c|c|c|c|}\n",
    "\\hline\n",
    "    (p & \\leftrightarrow & q) & \\leftrightarrow & ((p & \\rightarrow & q) & \\wedge & (q & \\rightarrow  & p)) \\\\\n",
    "\\hline\n",
    "    V & V & V & V & V & V & V & V & V & V & V \\\\\n",
    "    V & F & F & V & V & F & F & F & F & V & V \\\\\n",
    "    F & F & V & V & F & V & V & F & V & F & F \\\\\n",
    "    F & V & F & V & F & V & F & V & F & V & F \\\\\n",
    "\\hline\n",
    "    1 & 2 & 1 & 4 & 1 & 2 & 1 & 3 & 1 & 2 & 1 \\\\\n",
    "\\hline\n",
    "  \\end{array}"
   ]
  },
  {
   "cell_type": "markdown",
   "metadata": {},
   "source": [
    "##### Exercício:\n",
    "Suponhamos que *p,q,r* representam as seguintes sentenças:\n",
    "\n",
    ">$p:$\"7 é um número inteiro par\"\n",
    "\n",
    ">$q:3+1=4$\n",
    "\n",
    ">$r:$\"24 é divisível por 8\""
   ]
  },
  {
   "cell_type": "markdown",
   "metadata": {},
   "source": [
    "1. Escreva em linguagem simbólica as proposições\n",
    "\n",
    "    1. $3+1\\neq 4$ e 24 é divisível por 8\n",
    "    \n",
    "    + não é verdade que 7 seja ímpar ou 3+1=4\n",
    "    \n",
    "    + se 3+1=4 então 24 não é divisível por 8\n",
    "    \n",
    "* Escreva por palavras as sentenças\n",
    "\n",
    "    1. $p\\vee(\\neg q)$\n",
    "    \n",
    "    + $\\neg(p\\wedge q)$\n",
    "    \n",
    "    + $(\\neg r)\\vee (\\neg q)$\n",
    "    "
   ]
  },
  {
   "cell_type": "markdown",
   "metadata": {},
   "source": [
    "##### Exercício:\n",
    "Construir as tabelas de verdade das seguintes proposições:\n",
    "1. $((p\\rightarrow q)\\wedge p)\\rightarrow q$\n",
    "+ $p\\leftrightarrow(q\\rightarrow r)$\n",
    "+ $(p\\wedge(\\neg p))\\rightarrow q$\n",
    "+ $((p\\vee r)\\wedge(q\\vee r))\\wedge((\\neg p)\\vee (\\neg r))$\n",
    "+ $(p\\wedge(q\\vee r))\\wedge (q\\wedge (p\\vee r))$\n",
    "\n",
    "##### Exercício:\n",
    "Quantas linhas tem a tabela de verdade de uma proposição com $n$ variáveis proposicionais?"
   ]
  },
  {
   "cell_type": "markdown",
   "metadata": {},
   "source": [
    "#### Ordem de precedência das conectivas lógicas\n",
    "Até aqui, temos usado parêntesis para definir a ordem de\n",
    "aplicação dos operadores lógicos numa proposição composta. Por forma\n",
    "a reduzir o número de parêntesis adoptamos a seguinte convenção: Sempre que numa expressão estiverem presentes várias operações lógicas, **convenciona-se**, na ausência de parêntesis, que as operações se efectuem na ordem seguinte:\n",
    "1. a negação;\n",
    "+ a conjunção e a disjunção;\n",
    "+ a implicação e a bi-implicação."
   ]
  },
  {
   "cell_type": "markdown",
   "metadata": {},
   "source": [
    "Assim,\n",
    "1. $p\\rightarrow ((\\neg p)\\vee r)$ pode escrever-se $p\\rightarrow \\neg p\\vee r$;\n",
    "+ $(p\\wedge (\\neg q))\\leftrightarrow c$ pode escrever-se $p\\wedge \\neg q\\leftrightarrow c$;\n",
    "+ $p\\vee q\\wedge \\neg r \\rightarrow p \\rightarrow\\neg q$ deve ser entendida como\n",
    "$(((p\\vee q)\\wedge(\\neg r))\\rightarrow p) \\rightarrow(\\neg q)$."
   ]
  },
  {
   "cell_type": "markdown",
   "metadata": {},
   "source": [
    "### Tautologia\n",
    "Chama-se **tautologia** (ou fórmula logicamente\n",
    "verdadeira) a uma proposição que é verdadeira, para quaisquer que sejam os valores lógicos atribuídos às variáveis proposicionais que a compõem. Dito de outra forma, chama-se tautologia a uma proposição cuja coluna correspondente na tabela de verdade possui apenas Vs ou 1s. Exemplo duma tautologia é a proposição $p\\vee(\\neg p)$, designada de \"Princípio do terceiro excluído\",\n",
    "\n",
    "<img src=\"tabela3-1.gif\" width = 150/>\n",
    "\n",
    "A negação duma tautologia, ou seja uma proposição que é sempre falsa, diz-se uma **contra-tautologia** ou **contradição**. Se uma proposição não é nem uma tautologia nem uma contradição denomina-se por **contingência**.\n",
    "\n",
    "Não deve confundir-se contradição com proposição falsa, assim como não deve confundir-se tautologia com proposição verdadeira. O facto de uma tautologia ser sempre verdadeira e uma contradição ser sempre falsa deve-se à sua forma lógica (sintaxe) e não ao significado que se lhes pode atribuir (semântica).\n",
    "\n",
    "A tabela de verdade\n",
    "<img src=\"tabela1.gif\" width = 500/>\n",
    "mostra que $p\\rightarrow(p\\vee q)$ é uma tautologia, enquanto que $(p\\rightarrow q)\\wedge (p\\wedge (\\neg q))$ é uma contradição.\n"
   ]
  },
  {
   "cell_type": "markdown",
   "metadata": {},
   "source": [
    "#### Exercício\n",
    "Mostre que são tautologias:\n",
    "1. $(\\neg q\\rightarrow \\neg p)\\leftrightarrow(p\\rightarrow q)$\n",
    "+ $(p\\leftrightarrow  q)\\leftrightarrow ((p\\rightarrow q)\\wedge(q\\rightarrow p))$"
   ]
  },
  {
   "cell_type": "markdown",
   "metadata": {},
   "source": [
    "Exemplos de outras tautologias são apresentadas abaixo:\n",
    "<img src=\"tabela2.gif\"/>"
   ]
  },
  {
   "cell_type": "markdown",
   "metadata": {},
   "source": [
    "### Equivalências proposicionais\n",
    "\n",
    "As proposições $p$ e $q$ dizem-se **logicamente\n",
    "equivalentes** se $p\\leftrightarrow q$ é uma tautologia. Por $p\\equiv\n",
    "q$ ou $p\\Leftrightarrow q$ denotamos que $p$ e $q$ são logicamente\n",
    "equivalentes.\n",
    "\n",
    "Diz-se que a proposição $p$ **implica logicamente** a proposição $q$ se a veracidade da primeira arrastar necessariamente a veracidade da segunda, ou seja, se a proposição *p$\\rightarrow$q* for uma tautologia.\n",
    "\n",
    "\n",
    "1. $\\neg q\\rightarrow \\neg p \\Leftrightarrow p\\rightarrow q$\n",
    "\\begin{align}\n",
    "\\begin{array}{|c|c||c||c|c|}\n",
    "\\hline\n",
    "    \\neg & q & \\rightarrow & \\neg & p \\\\\n",
    "\\hline\n",
    "    F & V & V & F & V \\\\\n",
    "    V & F & F & F & V \\\\\n",
    "    F & V & V & V & F \\\\\n",
    "    V & F & V & V & F \\\\\n",
    "\\hline\n",
    "    2 & 1 & 3 & 2 & 1 \\\\\n",
    "\\hline\n",
    "  \\end{array}\n",
    "\\text{e}\n",
    "\\begin{array}{|c||c||c|}\n",
    "\\hline\n",
    "  p & \\rightarrow & q \\\\\n",
    "\\hline\n",
    "  V & V & V \\\\\n",
    "  V & F & F \\\\\n",
    "  F & V & V \\\\\n",
    "  F & V & F \\\\\n",
    "\\hline\n",
    "  1 & 2 & 1 \\\\\n",
    "\\hline\n",
    "\\end{array}\n",
    "\\end{align}\n",
    "\n",
    "* $p\\leftrightarrow  q\\Leftrightarrow (p\\rightarrow q)\\wedge(q\\rightarrow p)$\n",
    "\n",
    "  \\begin{array}{|c|c|c||c||c|c|c|c|c|c|c|}\n",
    "\\hline\n",
    "    (p & \\leftrightarrow & q) & \\leftrightarrow & ((p & \\rightarrow & q) & \\wedge & (q & \\rightarrow  & p)) \\\\\n",
    "\\hline\n",
    "    V & V & V & V & V & V & V & V & V & V & V \\\\\n",
    "    V & F & F & V & V & F & F & F & F & V & V \\\\\n",
    "    F & F & V & V & F & V & V & F & V & F & F \\\\\n",
    "    F & V & F & V & F & V & F & V & F & V & F \\\\\n",
    "\\hline\n",
    "    1 & 2 & 1 & 4 & 1 & 2 & 1 & 3 & 1 & 2 & 1 \\\\\n",
    "\\hline\n",
    "  \\end{array}\n",
    "\n",
    "Deste modo,  a equivalência proposicional pode ser sempre verificada através duma tabela de verdade. Em particular, as proposições $p$ e $q$ são equivalentes se e só se as colunas, na tabela de verdade, que determinam os seu valores lógicos coincidirem.\n"
   ]
  },
  {
   "cell_type": "markdown",
   "metadata": {},
   "source": [
    "#### Exercício\n",
    "Mostre que são exemplos de equivalências proposicionais:\n",
    "1. $\\neg(p\\vee \\neg p) \\Leftrightarrow p \\wedge \\neg p$\n",
    "+ $\\neg (p\\vee q)\\Leftrightarrow \\neg p \\wedge \\neg q$\n",
    "+ $\\neg p\\vee q \\Leftrightarrow p \\rightarrow q$\n",
    "+ $p\\vee(q\\wedge r)\\Leftrightarrow(p\\vee q)\\wedge(p\\vee r)$"
   ]
  },
  {
   "cell_type": "markdown",
   "metadata": {},
   "source": [
    "#### Exercício\n",
    "Indique quais das sentenças seguintes são equivalentes:\n",
    "1. $p\\wedge(\\neg q)$\n",
    "+ $p\\rightarrow q$\n",
    "+ $\\neg((\\neg p)\\vee q)$\n",
    "+ $q\\rightarrow(\\neg q)$\n",
    "+ $(\\neg p)\\vee q$\n",
    "+ $\\neg(p\\rightarrow q)$\n",
    "+ $p\\rightarrow(\\neg q)$\n",
    "+ $(\\neg p)\\rightarrow (\\neg q)$"
   ]
  },
  {
   "cell_type": "markdown",
   "metadata": {},
   "source": [
    "#### Exercício\n",
    "Mostre que cada uma das proposições que se seguem:\n",
    "1. $(\\neg p)\\vee q$\n",
    "+ $(\\neg q)\\rightarrow (\\neg p)$\n",
    "+ $\\neg(p\\wedge (\\neg q))$\n",
    "é equivalente a $p\\rightarrow q$.\n"
   ]
  },
  {
   "cell_type": "markdown",
   "metadata": {},
   "source": [
    "#### Exercício\n",
    "Mostre que:\n",
    "1. $p\\vee(q\\wedge r)$ não é logicamente equivalente a $(p\\vee q)\\wedge r$.\n",
    "+ $p\\vee (q\\wedge r)$ é logicamente equivalente a $(p\\vee q)\\wedge (p\\vee r)$.\n",
    "+ $p\\vee(\\neg (q  \\vee r))$ é logicamente equivalente a $(p\\vee(\\neg q))\\vee(\\neg r)$"
   ]
  },
  {
   "cell_type": "markdown",
   "metadata": {},
   "source": [
    "De seguida apresentamos exemplos de equivalências úteis para o que se segue (que podem ser verificadas através de tabelas de verdade):"
   ]
  },
  {
   "cell_type": "markdown",
   "metadata": {},
   "source": [
    "   Nome      |      Propriedade     |    Propriedade \n",
    "-------------|----------------------|-------------------\n",
    "Comutatividade | $p \\wedge q \\Leftrightarrow q \\wedge p$ | $p \\vee q \\Leftrightarrow q \\vee p$ \n",
    "Associativa| $(p\\wedge q)\\wedge r \\Leftrightarrow p \\wedge (q \\wedge r)$ | $(p\\vee q)\\vee r \\Leftrightarrow p \\vee (q \\vee r)$ \n",
    "Idempotência | $p\\wedge p \\Leftrightarrow p$ | $p\\vee p \\Leftrightarrow p$ \n",
    "Identidade | $p\\wedge V\\Leftrightarrow p$ | $p\\vee F\\Leftrightarrow p$ \n",
    "Dominância | $p\\wedge F\\Leftrightarrow F$ | $p\\vee V\\Leftrightarrow V$ \n",
    "Absorção | $p\\wedge(p\\vee r)\\Leftrightarrow p$ |$p\\vee(p\\wedge r)\\Leftrightarrow p$\n",
    "Distributivas | $p\\wedge(q\\vee r)\\Leftrightarrow(p\\wedge q)\\vee(p\\wedge r)$ | $p\\vee(q\\wedge r)\\Leftrightarrow(p\\vee q)\\wedge(p\\vee r)$ \n",
    "Distributivas | $p\\rightarrow(q\\vee r)\\Leftrightarrow(p\\rightarrow q)\\vee(p\\rightarrow r)$ | $p\\rightarrow(q\\wedge r)\\Leftrightarrow (p\\rightarrow q)\\wedge(p\\rightarrow r)$ \n",
    "Leis de De Morgan | $\\neg (p\\wedge q)\\Leftrightarrow \\neg p \\vee \\neg q$ |  $\\neg (p\\vee q)\\Leftrightarrow \\neg p \\wedge \\neg q$\n",
    "Def. Implicação | $p\\rightarrow q \\Leftrightarrow \\neg p \\vee q$ | $p\\rightarrow q\\Leftrightarrow \\neg(p\\wedge\\neg q)$ \n",
    "Def. Bi-condicional | $p\\leftrightarrow q \\Leftrightarrow (p\\rightarrow q) \\wedge (q \\rightarrow p)$ | $p\\leftrightarrow q \\Leftrightarrow (\\neg p \\vee q) \\wedge (\\neg q \\vee p)$ \n",
    "Negação | $\\neg(\\neg p)\\Leftrightarrow p$ | \n",
    "Contraposição | $p\\rightarrow q \\Leftrightarrow \\neg q \\rightarrow \\neg p$| \n",
    "Troca de premissas | $p\\rightarrow (q\\rightarrow r)\\Leftrightarrow q\\rightarrow (p\\rightarrow r)$ | "
   ]
  },
  {
   "cell_type": "markdown",
   "metadata": {},
   "source": [
    "As equivalências lógicas apresentadas na tabela anterior, podem ser usadas na determinação de equivalências lógicas adicionais. Isso porque, podemos numa proposição composta, substituir\n",
    "proposições por proposições que lhes sejam equivalentes\n",
    "sem que isso altere os valores de verdade da proposição original.\n",
    "\n",
    "Por exemplo:\n",
    "\n",
    "$$\n",
    "\\begin{array}{rcll}\n",
    "  \\neg(p\\vee(\\neg p \\wedge q)) & \\Leftrightarrow & \\neg p \\wedge \\neg(\\neg p \\wedge q) & \\text{da segunda lei de De Morgan} \\\\\n",
    "  & \\Leftrightarrow & \\neg p \\wedge [\\neg(\\neg p) \\vee \\neg q] & \\text{da primeira lei de De Morgan} \\\\\n",
    "  & \\Leftrightarrow & \\neg p \\wedge (p\\vee \\neg q) & \\text{da lei da dupla negação} \\\\\n",
    "  & \\Leftrightarrow & (\\neg p \\wedge p) \\vee (\\neg p \\wedge \\neg q) & \\text{da segunda distributividade} \\\\\n",
    "  & \\Leftrightarrow & F \\vee (\\neg p \\wedge \\neg q) & \\text{já que } \\neg p \\wedge p \\Leftrightarrow F \\\\\n",
    "  & \\Leftrightarrow & \\neg p \\wedge \\neg q & \\text{da lei identidade}\n",
    "\\end{array}\n",
    "$$\n",
    "\n",
    "Donde podemos concluir que $\\neg(p\\vee(\\neg p \\wedge q))$ e $\\neg p\n",
    "\\wedge \\neg q$ são proposições logicamente equivalentes:\n",
    "$$\n",
    " \\neg(p\\vee(\\neg p \\wedge q)) \\Leftrightarrow \\neg p \\wedge \\neg q\n",
    "$$\n"
   ]
  },
  {
   "cell_type": "markdown",
   "metadata": {},
   "source": [
    "#### Exercício\n",
    "Simplifique as seguintes proposições:\n",
    "1. $p\\vee(q\\wedge (\\neg p))$\n",
    "+ $\\neg(p\\vee(q\\wedge(\\neg r)))\\wedge q$\n",
    "+ $\\neg((\\neg p)\\wedge(\\neg q))$\n",
    "+ $\\neg((\\neg p)\\vee q)\\vee(p\\wedge(\\neg r))$\n",
    "+ $(p\\wedge q)\\vee (p\\wedge (\\neg q))$\n",
    "+ $(p\\wedge r)\\vee((\\neg r)\\wedge (p\\vee q))$\n"
   ]
  },
  {
   "cell_type": "markdown",
   "metadata": {},
   "source": [
    "#### Exercício\n",
    "Por vezes usa-se o símbolo $\\downarrow$ para construir proposições compostas $p\\downarrow q$ definidas por duas proposições $p$ e $q$, que é verdadeira quando e só quando $p$ e $q$ são simultaneamente falsas, e é falsa em todos os outros casos. A proposição $p\\downarrow q$ lê-se \"nem $p$ nem $q$\".\n",
    "1. Apresente a tabela de verdade de $p\\downarrow q$.\n",
    "+ Expresse $p\\downarrow q$ em termos das conectivas $\\wedge,\\vee$ e $\\neg$.\n",
    "+ Determine proposições apenas definidas pela conectiva $\\downarrow$ que sejam equivalentes a $\\neg p$, $p\\wedge q$ e $p\\vee q$."
   ]
  },
  {
   "cell_type": "markdown",
   "metadata": {},
   "source": [
    "#### Exercício\n",
    "Expresse a proposição $p\\leftrightarrow q$ usando apenas os símbolos $\\wedge,\\vee$ e $\\neg$."
   ]
  },
  {
   "cell_type": "markdown",
   "metadata": {},
   "source": [
    "### Considerações sobre a implicação\n",
    "As duas primeiras linhas da tabela da implicação\n",
    "\n",
    "\\begin{array}{c|c|c}\n",
    "\\hline\n",
    "  p & q & p\\rightarrow q \\\\\n",
    "\\hline\n",
    "  V & V & V \\\\\n",
    "  V & F & F \\\\\n",
    "  F & V & V \\\\\n",
    "  F & F & V\n",
    "\\end{array}\n",
    "\n",
    "não apresentam qualquer problema sob o ponto de vista intuitivo do senso comum. Quanto às duas últimas, qualquer outra escolha possível apresenta desvantagens sob o ponto de vista lógico, o que levou à escolha das soluções apresentadas, já que:\n",
    "\n",
    "1. fazendo F na 3º linha e F na 4º linha, obtém-se a tabela da conjunção\n",
    "+ fazendo F na 3º linha e V na 4º linha, obtém-se a tabela da bi-implicação\n",
    "+ resta a possibilidade de fazer V na 3º linha e F na 4º linha que também não é, pois isso equivaleria a recusar a equivalência\n",
    "$$\n",
    "(p\\rightarrow q)\\Leftrightarrow(\\neg q\\rightarrow\\neg p)\n",
    "$$\n",
    "que é uma equivalência aconselhável, já que a proposição \"se o Pedro fala, existe\" é (intuitivamente) equivalente à proposição \"se o Pedro não existe, não fala\". A aceitação desta equivalência impõe a tabela considerada para a implicação.\n",
    "\n",
    "\\begin{align}\n",
    "\\begin{array}{|c|c||c||c|c|}\n",
    "\\hline\n",
    "\\neg & q & \\rightarrow & \\neg & p \\\\\n",
    "\\hline\n",
    "F & V & V & F & V \\\\\n",
    "V & F & F & F & V \\\\\n",
    "F & V & V & V & F \\\\\n",
    "V & F & V & V & F \\\\\n",
    "\\hline\n",
    "2 & 1 & 3 & 2 & 1 \\\\\n",
    "\\hline\n",
    "\\end{array}\n",
    "e \n",
    "\\begin{array}{|c||c||c|}\n",
    "\\hline\n",
    "p & \\rightarrow & q \\\\\n",
    "\\hline\n",
    "V & V & V \\\\\n",
    "V & F & F \\\\\n",
    "F & V & V \\\\\n",
    "F & V & F \\\\\n",
    "\\hline\n",
    "1 & 2 & 1 \\\\\n",
    "\\hline\n",
    "\\end{array}\n",
    "\\end{align}\n",
    "\n",
    "A partir duma implicação $r$ dada por $p\\rightarrow q$ define-se as\n",
    "proposições:\n",
    "1. $q\\rightarrow p$, designada de *recíproca* da implicação $r$;\n",
    "+ $\\neg q\\rightarrow \\neg p$, designada por *contra-recíproca* de $r$;\n",
    "+ $\\neg p\\rightarrow \\neg q$, designada por *inversa* de $r$.\n",
    "Observe-se que, embora a contra-recíproca seja equivalente à proposição original, o mesmo não acontece com a recíproca (e a inversa, que lhe é equivalente) o que se pode verificar através das respectivas tabelas de verdade.\n"
   ]
  },
  {
   "cell_type": "markdown",
   "metadata": {},
   "source": [
    "#### Exercício\n",
    "Determine:\n",
    "1. a contra-recíproca de $(\\neg p)\\rightarrow q$\n",
    "+ a inversa de $(\\neg q)\\rightarrow p$\n",
    "+ a recíproca da inversa de $q\\rightarrow (\\neg p)$\n",
    "+ a negação de $p\\rightarrow (\\neg q)$"
   ]
  }
 ],
 "metadata": {
  "kernelspec": {
   "display_name": "Python 3",
   "language": "python",
   "name": "python3"
  },
  "language_info": {
   "codemirror_mode": {
    "name": "ipython",
    "version": 3
   },
   "file_extension": ".py",
   "mimetype": "text/x-python",
   "name": "python",
   "nbconvert_exporter": "python",
   "pygments_lexer": "ipython3",
   "version": "3.5.1"
  }
 },
 "nbformat": 4,
 "nbformat_minor": 0
}
