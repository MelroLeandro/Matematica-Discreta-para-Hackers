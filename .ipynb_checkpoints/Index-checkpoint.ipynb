{
 "cells": [
  {
   "cell_type": "markdown",
   "metadata": {},
   "source": [
    "# Matemática Discreta para Hackers"
   ]
  },
  {
   "cell_type": "markdown",
   "metadata": {},
   "source": [
    "Este NoteBook tem por principal objetivo fazer uma introdução à Matemática Discreta usando como instrumento de estudo uma linguagem de programação. Não pretendemos com isto levar a que o aluno deixe de lado a resolução de problemas usando um lápis e papel. Muito pelo contrário. Tentamos descrever os limites dos computadores como ferramenta de trabalho e como podem ser úteis para a validar hipótese de propriedades em estruturas e teorias matemáticas. É neste sentido que damos a esta apresentação o nome de \"Matemática Discreta para Hackers\", tentado com isso enfatizar a importância de o aluno desmontar e reescrever uma área importante da matemática, usando apenas a curiosidade e o gosto pela programação.\n",
    "\n",
    "Uma parte considerável destas notas têm sido usadas para alunos do primeiro ano de um curso de Engenharia Multimédia.  Aqui deixamos uma revisão tendo por foco a importância da auto-aprendizagem na Matemática e na Programação, áreas de estudo onde se registam altos níveis de insucesso dado a exigirem à partida uma dedicação e empenho que, na maioria dos casos, os alunos estão dispostos a dispensar sem a motivação apropriada.\n",
    "\n",
    "A introdução dos Jupyter"
   ]
  },
  {
   "cell_type": "markdown",
   "metadata": {},
   "source": [
    "[1 Introdução Python](Chapter1_Introducao/Chapter1.ipynb)"
   ]
  },
  {
   "cell_type": "markdown",
   "metadata": {},
   "source": [
    "[2 Lógica proposicional](Chapter2_Calculo_Proposicional/Chapter2_Calculo_Proposicional.ipynb)"
   ]
  },
  {
   "cell_type": "markdown",
   "metadata": {},
   "source": [
    "[3 Dedução Natural](Chapter3_Deducao_Natural/Chapter3_Deducao_Natural.ipynb)"
   ]
  },
  {
   "cell_type": "markdown",
   "metadata": {},
   "source": [
    "[4 Lógica de predicados](Chapter4_Logica_de_predicados/Chapter4_Logica_de_predicados.ipynb)"
   ]
  },
  {
   "cell_type": "markdown",
   "metadata": {},
   "source": [
    "[5 Teoria de Conjuntos](Chapter5_Teoria_de_conjuntos/Teoria_de_conjuntos.ipynb)"
   ]
  },
  {
   "cell_type": "markdown",
   "metadata": {},
   "source": [
    "[6 Python](Chapter1_Introducao/Chapter1.ipynb)"
   ]
  },
  {
   "cell_type": "markdown",
   "metadata": {},
   "source": [
    "[7 Teoria de Conjuntos](Chapter1_Introducao/Chapter1.ipynb)"
   ]
  },
  {
   "cell_type": "markdown",
   "metadata": {},
   "source": [
    "[8 Estruturas Algébricas](Chapter8_Estruturas_Algebricas/Chapter8_Estruturas_Algebricas.ipynb)"
   ]
  },
  {
   "cell_type": "markdown",
   "metadata": {},
   "source": [
    "[9 PyGame](Chapter9PyGame/AulaPyGame.ipynb)"
   ]
  },
  {
   "cell_type": "markdown",
   "metadata": {},
   "source": [
    "[10 Teoria de grafos](Chapter1_Introducao/Chapter1.ipynb)"
   ]
  }
 ],
 "metadata": {
  "kernelspec": {
   "display_name": "Python 3",
   "language": "python",
   "name": "python3"
  },
  "language_info": {
   "codemirror_mode": {
    "name": "ipython",
    "version": 3
   },
   "file_extension": ".py",
   "mimetype": "text/x-python",
   "name": "python",
   "nbconvert_exporter": "python",
   "pygments_lexer": "ipython3",
   "version": "3.5.1"
  }
 },
 "nbformat": 4,
 "nbformat_minor": 0
}
